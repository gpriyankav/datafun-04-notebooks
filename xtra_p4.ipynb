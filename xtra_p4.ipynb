{
 "cells": [
  {
   "cell_type": "markdown",
   "id": "cf80ecc5-c860-4d88-9612-f06ef40eca3e",
   "metadata": {},
   "source": [
    "## Priyanka Gorentla - 2/2/2023"
   ]
  },
  {
   "cell_type": "markdown",
   "id": "3ce4c314-20ea-446c-b8e0-f5bbb3cfdbd9",
   "metadata": {},
   "source": [
    "## Optional Task 5 (Bonus)"
   ]
  },
  {
   "cell_type": "markdown",
   "id": "4b6b88cd-16c5-4c72-930a-99b1dc5f65f1",
   "metadata": {},
   "source": [
    "## Reformatting your Data"
   ]
  },
  {
   "cell_type": "code",
   "execution_count": 1,
   "id": "4780a1db-d448-4384-9bed-31eea67e08e8",
   "metadata": {},
   "outputs": [
    {
     "data": {
      "text/html": [
       "<div>\n",
       "<style scoped>\n",
       "    .dataframe tbody tr th:only-of-type {\n",
       "        vertical-align: middle;\n",
       "    }\n",
       "\n",
       "    .dataframe tbody tr th {\n",
       "        vertical-align: top;\n",
       "    }\n",
       "\n",
       "    .dataframe thead th {\n",
       "        text-align: right;\n",
       "    }\n",
       "</style>\n",
       "<table border=\"1\" class=\"dataframe\">\n",
       "  <thead>\n",
       "    <tr style=\"text-align: right;\">\n",
       "      <th></th>\n",
       "      <th>Name</th>\n",
       "      <th>Email</th>\n",
       "      <th>Phone</th>\n",
       "    </tr>\n",
       "  </thead>\n",
       "  <tbody>\n",
       "    <tr>\n",
       "      <th>0</th>\n",
       "      <td>Mike Green</td>\n",
       "      <td>demo1@deitel.com</td>\n",
       "      <td>5555555555</td>\n",
       "    </tr>\n",
       "    <tr>\n",
       "      <th>1</th>\n",
       "      <td>Sue Brown</td>\n",
       "      <td>demo2@deitel.com</td>\n",
       "      <td>5555551234</td>\n",
       "    </tr>\n",
       "  </tbody>\n",
       "</table>\n",
       "</div>"
      ],
      "text/plain": [
       "         Name             Email       Phone\n",
       "0  Mike Green  demo1@deitel.com  5555555555\n",
       "1   Sue Brown  demo2@deitel.com  5555551234"
      ]
     },
     "execution_count": 1,
     "metadata": {},
     "output_type": "execute_result"
    }
   ],
   "source": [
    "import pandas as pd\n",
    "contacts = [['Mike Green', 'demo1@deitel.com', '5555555555'],\n",
    "            ['Sue Brown', 'demo2@deitel.com', '5555551234']]\n",
    "contactsdf = pd.DataFrame(contacts,\n",
    "                          columns=['Name', 'Email', 'Phone'])\n",
    "contactsdf"
   ]
  },
  {
   "cell_type": "markdown",
   "id": "300ecb84-c206-44ce-a652-3a668d45b4ac",
   "metadata": {},
   "source": [
    "## Defining a function and importing regex, improving DataFrame using Map"
   ]
  },
  {
   "cell_type": "code",
   "execution_count": 2,
   "id": "72a4803d-2032-4b68-acbc-715ebafb26ad",
   "metadata": {},
   "outputs": [
    {
     "data": {
      "text/plain": [
       "0    555-555-5555\n",
       "1    555-555-1234\n",
       "Name: Phone, dtype: object"
      ]
     },
     "execution_count": 2,
     "metadata": {},
     "output_type": "execute_result"
    }
   ],
   "source": [
    "import re\n",
    "def get_formatted_phone(value):\n",
    "    result = re.fullmatch(r'(\\d{3})(\\d{3})(\\d{4})', value)\n",
    "    return '-'.join(result.groups()) if result else value\n",
    "formatted_phone = contactsdf['Phone'].map(get_formatted_phone)\n",
    "formatted_phone"
   ]
  },
  {
   "cell_type": "code",
   "execution_count": 3,
   "id": "e0f35658-8a5d-4261-9119-f3093bc97c38",
   "metadata": {},
   "outputs": [
    {
     "data": {
      "text/html": [
       "<div>\n",
       "<style scoped>\n",
       "    .dataframe tbody tr th:only-of-type {\n",
       "        vertical-align: middle;\n",
       "    }\n",
       "\n",
       "    .dataframe tbody tr th {\n",
       "        vertical-align: top;\n",
       "    }\n",
       "\n",
       "    .dataframe thead th {\n",
       "        text-align: right;\n",
       "    }\n",
       "</style>\n",
       "<table border=\"1\" class=\"dataframe\">\n",
       "  <thead>\n",
       "    <tr style=\"text-align: right;\">\n",
       "      <th></th>\n",
       "      <th>Name</th>\n",
       "      <th>Email</th>\n",
       "      <th>Phone</th>\n",
       "    </tr>\n",
       "  </thead>\n",
       "  <tbody>\n",
       "    <tr>\n",
       "      <th>0</th>\n",
       "      <td>Mike Green</td>\n",
       "      <td>demo1@deitel.com</td>\n",
       "      <td>555-555-5555</td>\n",
       "    </tr>\n",
       "    <tr>\n",
       "      <th>1</th>\n",
       "      <td>Sue Brown</td>\n",
       "      <td>demo2@deitel.com</td>\n",
       "      <td>555-555-1234</td>\n",
       "    </tr>\n",
       "  </tbody>\n",
       "</table>\n",
       "</div>"
      ],
      "text/plain": [
       "         Name             Email         Phone\n",
       "0  Mike Green  demo1@deitel.com  555-555-5555\n",
       "1   Sue Brown  demo2@deitel.com  555-555-1234"
      ]
     },
     "execution_count": 3,
     "metadata": {},
     "output_type": "execute_result"
    }
   ],
   "source": [
    "contactsdf['Phone'] = formatted_phone\n",
    "contactsdf"
   ]
  },
  {
   "cell_type": "markdown",
   "id": "4dc8580d-a162-4b23-abfa-93f64388da51",
   "metadata": {},
   "source": [
    "## Self Check"
   ]
  },
  {
   "cell_type": "code",
   "execution_count": 4,
   "id": "ec76e756-5f89-4532-80dc-4b029fcdd5f7",
   "metadata": {},
   "outputs": [
    {
     "data": {
      "text/html": [
       "<div>\n",
       "<style scoped>\n",
       "    .dataframe tbody tr th:only-of-type {\n",
       "        vertical-align: middle;\n",
       "    }\n",
       "\n",
       "    .dataframe tbody tr th {\n",
       "        vertical-align: top;\n",
       "    }\n",
       "\n",
       "    .dataframe thead th {\n",
       "        text-align: right;\n",
       "    }\n",
       "</style>\n",
       "<table border=\"1\" class=\"dataframe\">\n",
       "  <thead>\n",
       "    <tr style=\"text-align: right;\">\n",
       "      <th></th>\n",
       "      <th>Name</th>\n",
       "      <th>Email</th>\n",
       "      <th>Phone</th>\n",
       "    </tr>\n",
       "  </thead>\n",
       "  <tbody>\n",
       "    <tr>\n",
       "      <th>0</th>\n",
       "      <td>Priyanka</td>\n",
       "      <td>kongarap@hotmail.com</td>\n",
       "      <td>(666) 666-6666</td>\n",
       "    </tr>\n",
       "    <tr>\n",
       "      <th>1</th>\n",
       "      <td>Vijay</td>\n",
       "      <td>kongarav@hotmail.com</td>\n",
       "      <td>(999) 999-9999</td>\n",
       "    </tr>\n",
       "  </tbody>\n",
       "</table>\n",
       "</div>"
      ],
      "text/plain": [
       "       Name                 Email           Phone\n",
       "0  Priyanka  kongarap@hotmail.com  (666) 666-6666\n",
       "1     Vijay  kongarav@hotmail.com  (999) 999-9999"
      ]
     },
     "execution_count": 4,
     "metadata": {},
     "output_type": "execute_result"
    }
   ],
   "source": [
    "import pandas as pd\n",
    "import re\n",
    "contacts = [['Priyanka', 'kongarap@hotmail.com', '6666666666'],\n",
    "            ['Vijay', 'kongarav@hotmail.com', '9999999999']]\n",
    "contactsdf = pd.DataFrame(contacts,\n",
    "                          columns=['Name', 'Email', 'Phone'])\n",
    "def get_formatted_phone(value):\n",
    "    result = re.fullmatch(r'(\\d{3})(\\d{3})(\\d{4})', value)\n",
    "    if result:\n",
    "        part1, part2, part3 = result.groups()\n",
    "        return '(' + part1 + ') ' + part2 + '-' + part3\n",
    "    else:\n",
    "        return val\n",
    "contactsdf['Phone'] = contactsdf['Phone'].map(get_formatted_phone)\n",
    "contactsdf          "
   ]
  }
 ],
 "metadata": {
  "kernelspec": {
   "display_name": "base",
   "language": "python",
   "name": "python3"
  },
  "language_info": {
   "codemirror_mode": {
    "name": "ipython",
    "version": 3
   },
   "file_extension": ".py",
   "mimetype": "text/x-python",
   "name": "python",
   "nbconvert_exporter": "python",
   "pygments_lexer": "ipython3",
   "version": "3.9.13"
  },
  "vscode": {
   "interpreter": {
    "hash": "891fa0e227d4280f9c97174a22ec21a2ee550eec5349b4ce047c3328d4f22b7e"
   }
  }
 },
 "nbformat": 4,
 "nbformat_minor": 5
}
