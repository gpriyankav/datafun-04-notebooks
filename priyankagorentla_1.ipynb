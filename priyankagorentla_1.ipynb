{
 "cells": [
  {
   "cell_type": "markdown",
   "id": "3e00e562-1c2d-459d-8397-8fb102b4a419",
   "metadata": {},
   "source": [
    "## Priyanka Gorentla's Module 4 Project(TASK 1)-2/1/2023"
   ]
  },
  {
   "cell_type": "markdown",
   "id": "780a1c1b-e854-442a-8781-c1ca846d2878",
   "metadata": {},
   "source": [
    "## Task 1 - Series "
   ]
  },
  {
   "cell_type": "code",
   "execution_count": 24,
   "id": "d084d8f5-1bc5-495c-b472-fe70deb550be",
   "metadata": {},
   "outputs": [],
   "source": [
    "import pandas as pd\n",
    "grades = pd.Series([99,100,87])"
   ]
  },
  {
   "cell_type": "code",
   "execution_count": 25,
   "id": "6814eb35-a99c-40f5-8ffe-0eef77dcfcd1",
   "metadata": {},
   "outputs": [
    {
     "data": {
      "text/plain": [
       "99"
      ]
     },
     "execution_count": 25,
     "metadata": {},
     "output_type": "execute_result"
    }
   ],
   "source": [
    "grades[0]"
   ]
  },
  {
   "cell_type": "code",
   "execution_count": 26,
   "id": "30f4d66c-93bc-406d-abf5-60473b007040",
   "metadata": {},
   "outputs": [
    {
     "data": {
      "text/plain": [
       "0    98.6\n",
       "1    98.6\n",
       "2    98.6\n",
       "dtype: float64"
      ]
     },
     "execution_count": 26,
     "metadata": {},
     "output_type": "execute_result"
    }
   ],
   "source": [
    "pd.Series(98.6 , range(3))"
   ]
  },
  {
   "cell_type": "code",
   "execution_count": 27,
   "id": "5f4fedca-5230-4b47-a833-8f8e612131c3",
   "metadata": {},
   "outputs": [
    {
     "data": {
      "text/plain": [
       "0     99\n",
       "1    100\n",
       "2     87\n",
       "dtype: int64"
      ]
     },
     "execution_count": 27,
     "metadata": {},
     "output_type": "execute_result"
    }
   ],
   "source": [
    "grades"
   ]
  },
  {
   "cell_type": "code",
   "execution_count": 28,
   "id": "e69b8401-d277-45cd-87b2-893b9a62250f",
   "metadata": {},
   "outputs": [
    {
     "data": {
      "text/plain": [
       "3"
      ]
     },
     "execution_count": 28,
     "metadata": {},
     "output_type": "execute_result"
    }
   ],
   "source": [
    "grades.count()"
   ]
  },
  {
   "cell_type": "code",
   "execution_count": 29,
   "id": "405adffe-b71e-4ffe-97e4-55893de5524f",
   "metadata": {},
   "outputs": [
    {
     "data": {
      "text/plain": [
       "95.33333333333333"
      ]
     },
     "execution_count": 29,
     "metadata": {},
     "output_type": "execute_result"
    }
   ],
   "source": [
    "grades.mean()"
   ]
  },
  {
   "cell_type": "code",
   "execution_count": 30,
   "id": "20fe4f06-4a68-4b40-8569-6d9c93c8ece2",
   "metadata": {},
   "outputs": [
    {
     "data": {
      "text/plain": [
       "87"
      ]
     },
     "execution_count": 30,
     "metadata": {},
     "output_type": "execute_result"
    }
   ],
   "source": [
    "grades.min()"
   ]
  },
  {
   "cell_type": "code",
   "execution_count": 31,
   "id": "3d0be9be-dca1-4a9e-89e7-c96bc0ff223e",
   "metadata": {},
   "outputs": [
    {
     "data": {
      "text/plain": [
       "100"
      ]
     },
     "execution_count": 31,
     "metadata": {},
     "output_type": "execute_result"
    }
   ],
   "source": [
    "grades.max()"
   ]
  },
  {
   "cell_type": "code",
   "execution_count": 32,
   "id": "8e1349cb-4e20-47f8-8e56-ebdb37187393",
   "metadata": {},
   "outputs": [
    {
     "data": {
      "text/plain": [
       "7.234178138070235"
      ]
     },
     "execution_count": 32,
     "metadata": {},
     "output_type": "execute_result"
    }
   ],
   "source": [
    "grades.std()"
   ]
  },
  {
   "cell_type": "code",
   "execution_count": 33,
   "id": "e54eaccd-0a19-44fe-85a4-d6ec3f6c54fd",
   "metadata": {},
   "outputs": [
    {
     "data": {
      "text/plain": [
       "count      3.000000\n",
       "mean      95.333333\n",
       "std        7.234178\n",
       "min       87.000000\n",
       "25%       93.000000\n",
       "50%       99.000000\n",
       "75%       99.500000\n",
       "max      100.000000\n",
       "dtype: float64"
      ]
     },
     "execution_count": 33,
     "metadata": {},
     "output_type": "execute_result"
    }
   ],
   "source": [
    "grades.describe()"
   ]
  },
  {
   "cell_type": "markdown",
   "id": "7fe94b46-a167-4da2-96d1-78e1fc8daa81",
   "metadata": {},
   "source": [
    "## Task 2 - Series from Dictionary"
   ]
  },
  {
   "cell_type": "code",
   "execution_count": 34,
   "id": "b2f47bd0-b47a-4fe1-b208-ca25a1e2ea70",
   "metadata": {},
   "outputs": [
    {
     "data": {
      "text/plain": [
       "Wally     99\n",
       "Eva      100\n",
       "Sam       87\n",
       "dtype: int64"
      ]
     },
     "execution_count": 34,
     "metadata": {},
     "output_type": "execute_result"
    }
   ],
   "source": [
    "import pandas as pd\n",
    "grades = pd.Series([99, 100, 87], index = ['Wally', 'Eva', 'Sam'])\n",
    "grades = pd.Series({'Wally': 99, 'Eva': 100, 'Sam': 87})\n",
    "grades"
   ]
  },
  {
   "cell_type": "code",
   "execution_count": 35,
   "id": "97e71b57-943e-48c1-9e85-10649f2f238b",
   "metadata": {},
   "outputs": [
    {
     "data": {
      "text/plain": [
       "100"
      ]
     },
     "execution_count": 35,
     "metadata": {},
     "output_type": "execute_result"
    }
   ],
   "source": [
    "grades['Eva']"
   ]
  },
  {
   "cell_type": "code",
   "execution_count": 36,
   "id": "4a9218c5-ab5b-4cc2-ad06-661baba7103e",
   "metadata": {},
   "outputs": [
    {
     "data": {
      "text/plain": [
       "99"
      ]
     },
     "execution_count": 36,
     "metadata": {},
     "output_type": "execute_result"
    }
   ],
   "source": [
    "grades.Wally"
   ]
  },
  {
   "cell_type": "code",
   "execution_count": 37,
   "id": "37f77d29-756d-41f4-ae2c-17047600a5be",
   "metadata": {},
   "outputs": [
    {
     "data": {
      "text/plain": [
       "dtype('int64')"
      ]
     },
     "execution_count": 37,
     "metadata": {},
     "output_type": "execute_result"
    }
   ],
   "source": [
    "grades.dtype"
   ]
  },
  {
   "cell_type": "code",
   "execution_count": 38,
   "id": "83676e0e-c68a-435e-aea1-459879f32237",
   "metadata": {},
   "outputs": [
    {
     "data": {
      "text/plain": [
       "array([ 99, 100,  87], dtype=int64)"
      ]
     },
     "execution_count": 38,
     "metadata": {},
     "output_type": "execute_result"
    }
   ],
   "source": [
    "grades.values"
   ]
  },
  {
   "cell_type": "code",
   "execution_count": 39,
   "id": "9cd911f8-89e4-4863-a0fc-d2695bd6a658",
   "metadata": {},
   "outputs": [
    {
     "data": {
      "text/plain": [
       "0    Hammer\n",
       "1       Saw\n",
       "2    Wrench\n",
       "dtype: object"
      ]
     },
     "execution_count": 39,
     "metadata": {},
     "output_type": "execute_result"
    }
   ],
   "source": [
    "hardware = pd.Series(['Hammer','Saw','Wrench'])\n",
    "hardware"
   ]
  },
  {
   "cell_type": "code",
   "execution_count": 40,
   "id": "8a590a9a-af8e-4660-8c65-fa99deaf8ee4",
   "metadata": {},
   "outputs": [
    {
     "data": {
      "text/plain": [
       "0     True\n",
       "1     True\n",
       "2    False\n",
       "dtype: bool"
      ]
     },
     "execution_count": 40,
     "metadata": {},
     "output_type": "execute_result"
    }
   ],
   "source": [
    "hardware.str.contains('a')"
   ]
  },
  {
   "cell_type": "code",
   "execution_count": 41,
   "id": "d158fa9a-91e5-411c-8d19-68a0daa0c33d",
   "metadata": {},
   "outputs": [
    {
     "data": {
      "text/plain": [
       "0    HAMMER\n",
       "1       SAW\n",
       "2    WRENCH\n",
       "dtype: object"
      ]
     },
     "execution_count": 41,
     "metadata": {},
     "output_type": "execute_result"
    }
   ],
   "source": [
    "hardware.str.upper()"
   ]
  },
  {
   "cell_type": "markdown",
   "id": "7957215f-3234-46b8-9e25-0cb9eeef3e2f",
   "metadata": {},
   "source": [
    "## Self Check"
   ]
  },
  {
   "cell_type": "code",
   "execution_count": 42,
   "id": "9b0f1689-712c-44a8-9162-638c081e4090",
   "metadata": {},
   "outputs": [
    {
     "data": {
      "text/plain": [
       "0    71\n",
       "1    78\n",
       "2    70\n",
       "3    74\n",
       "4    66\n",
       "5    67\n",
       "dtype: int32"
      ]
     },
     "execution_count": 42,
     "metadata": {},
     "output_type": "execute_result"
    }
   ],
   "source": [
    "import numpy as np\n",
    "import pandas as pd\n",
    "temps = np.random.randint(60, 101, 6)\n",
    "temperatures = pd.Series(temps)\n",
    "temperatures"
   ]
  },
  {
   "cell_type": "code",
   "execution_count": 43,
   "id": "b60a63c7-eddd-423f-bf63-8b8ddb089555",
   "metadata": {},
   "outputs": [
    {
     "data": {
      "text/plain": [
       "66"
      ]
     },
     "execution_count": 43,
     "metadata": {},
     "output_type": "execute_result"
    }
   ],
   "source": [
    "temperatures.min()"
   ]
  },
  {
   "cell_type": "code",
   "execution_count": 44,
   "id": "0b58a703-8085-41bf-a885-2263b564c8df",
   "metadata": {},
   "outputs": [
    {
     "data": {
      "text/plain": [
       "78"
      ]
     },
     "execution_count": 44,
     "metadata": {},
     "output_type": "execute_result"
    }
   ],
   "source": [
    "temperatures.max()"
   ]
  },
  {
   "cell_type": "code",
   "execution_count": 45,
   "id": "f19f8001-353f-4045-b15f-5c0e5bd6a360",
   "metadata": {},
   "outputs": [
    {
     "data": {
      "text/plain": [
       "71.0"
      ]
     },
     "execution_count": 45,
     "metadata": {},
     "output_type": "execute_result"
    }
   ],
   "source": [
    "temperatures.mean()"
   ]
  },
  {
   "cell_type": "code",
   "execution_count": 46,
   "id": "647bff11-578c-4ef3-b491-324b3a3f2259",
   "metadata": {},
   "outputs": [
    {
     "data": {
      "text/plain": [
       "count     6.000000\n",
       "mean     71.000000\n",
       "std       4.472136\n",
       "min      66.000000\n",
       "25%      67.750000\n",
       "50%      70.500000\n",
       "75%      73.250000\n",
       "max      78.000000\n",
       "dtype: float64"
      ]
     },
     "execution_count": 46,
     "metadata": {},
     "output_type": "execute_result"
    }
   ],
   "source": [
    "temperatures.describe()"
   ]
  }
 ],
 "metadata": {
  "kernelspec": {
   "display_name": "base",
   "language": "python",
   "name": "python3"
  },
  "language_info": {
   "codemirror_mode": {
    "name": "ipython",
    "version": 3
   },
   "file_extension": ".py",
   "mimetype": "text/x-python",
   "name": "python",
   "nbconvert_exporter": "python",
   "pygments_lexer": "ipython3",
   "version": "3.9.13"
  },
  "vscode": {
   "interpreter": {
    "hash": "891fa0e227d4280f9c97174a22ec21a2ee550eec5349b4ce047c3328d4f22b7e"
   }
  }
 },
 "nbformat": 4,
 "nbformat_minor": 5
}
